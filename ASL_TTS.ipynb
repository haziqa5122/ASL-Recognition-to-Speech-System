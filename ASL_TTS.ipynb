{
  "nbformat": 4,
  "nbformat_minor": 0,
  "metadata": {
    "colab": {
      "provenance": [],
      "gpuType": "T4"
    },
    "kernelspec": {
      "name": "python3",
      "display_name": "Python 3"
    },
    "language_info": {
      "name": "python"
    },
    "accelerator": "GPU"
  },
  "cells": [
    {
      "cell_type": "code",
      "execution_count": 1,
      "metadata": {
        "colab": {
          "base_uri": "https://localhost:8080/"
        },
        "id": "preqPHkQgBGs",
        "outputId": "a09dda41-5e7a-42fe-f30e-385f1f624d24"
      },
      "outputs": [
        {
          "output_type": "stream",
          "name": "stdout",
          "text": [
            "Collecting git+https://github.com/suno-ai/bark.git\n",
            "  Cloning https://github.com/suno-ai/bark.git to /tmp/pip-req-build-nfhkqjn1\n",
            "  Running command git clone --filter=blob:none --quiet https://github.com/suno-ai/bark.git /tmp/pip-req-build-nfhkqjn1\n",
            "  Resolved https://github.com/suno-ai/bark.git to commit f4f32d4cd480dfec1c245d258174bc9bde3c2148\n",
            "  Installing build dependencies ... \u001b[?25l\u001b[?25hdone\n",
            "  Getting requirements to build wheel ... \u001b[?25l\u001b[?25hdone\n",
            "  Preparing metadata (pyproject.toml) ... \u001b[?25l\u001b[?25hdone\n",
            "Collecting gradio\n",
            "  Downloading gradio-5.9.1-py3-none-any.whl.metadata (16 kB)\n",
            "Collecting ultralytics\n",
            "  Downloading ultralytics-8.3.54-py3-none-any.whl.metadata (35 kB)\n",
            "Collecting aiofiles<24.0,>=22.0 (from gradio)\n",
            "  Downloading aiofiles-23.2.1-py3-none-any.whl.metadata (9.7 kB)\n",
            "Requirement already satisfied: anyio<5.0,>=3.0 in /usr/local/lib/python3.10/dist-packages (from gradio) (3.7.1)\n",
            "Collecting fastapi<1.0,>=0.115.2 (from gradio)\n",
            "  Downloading fastapi-0.115.6-py3-none-any.whl.metadata (27 kB)\n",
            "Collecting ffmpy (from gradio)\n",
            "  Downloading ffmpy-0.5.0-py3-none-any.whl.metadata (3.0 kB)\n",
            "Collecting gradio-client==1.5.2 (from gradio)\n",
            "  Downloading gradio_client-1.5.2-py3-none-any.whl.metadata (7.1 kB)\n",
            "Requirement already satisfied: httpx>=0.24.1 in /usr/local/lib/python3.10/dist-packages (from gradio) (0.28.1)\n",
            "Requirement already satisfied: huggingface-hub>=0.25.1 in /usr/local/lib/python3.10/dist-packages (from gradio) (0.27.0)\n",
            "Requirement already satisfied: jinja2<4.0 in /usr/local/lib/python3.10/dist-packages (from gradio) (3.1.4)\n",
            "Collecting markupsafe~=2.0 (from gradio)\n",
            "  Downloading MarkupSafe-2.1.5-cp310-cp310-manylinux_2_17_x86_64.manylinux2014_x86_64.whl.metadata (3.0 kB)\n",
            "Requirement already satisfied: numpy<3.0,>=1.0 in /usr/local/lib/python3.10/dist-packages (from gradio) (1.26.4)\n",
            "Requirement already satisfied: orjson~=3.0 in /usr/local/lib/python3.10/dist-packages (from gradio) (3.10.12)\n",
            "Requirement already satisfied: packaging in /usr/local/lib/python3.10/dist-packages (from gradio) (24.2)\n",
            "Requirement already satisfied: pandas<3.0,>=1.0 in /usr/local/lib/python3.10/dist-packages (from gradio) (2.2.2)\n",
            "Requirement already satisfied: pillow<12.0,>=8.0 in /usr/local/lib/python3.10/dist-packages (from gradio) (11.0.0)\n",
            "Requirement already satisfied: pydantic>=2.0 in /usr/local/lib/python3.10/dist-packages (from gradio) (2.10.3)\n",
            "Collecting pydub (from gradio)\n",
            "  Downloading pydub-0.25.1-py2.py3-none-any.whl.metadata (1.4 kB)\n",
            "Collecting python-multipart>=0.0.18 (from gradio)\n",
            "  Downloading python_multipart-0.0.20-py3-none-any.whl.metadata (1.8 kB)\n",
            "Requirement already satisfied: pyyaml<7.0,>=5.0 in /usr/local/lib/python3.10/dist-packages (from gradio) (6.0.2)\n",
            "Collecting ruff>=0.2.2 (from gradio)\n",
            "  Downloading ruff-0.8.4-py3-none-manylinux_2_17_x86_64.manylinux2014_x86_64.whl.metadata (25 kB)\n",
            "Collecting safehttpx<0.2.0,>=0.1.6 (from gradio)\n",
            "  Downloading safehttpx-0.1.6-py3-none-any.whl.metadata (4.2 kB)\n",
            "Collecting semantic-version~=2.0 (from gradio)\n",
            "  Downloading semantic_version-2.10.0-py2.py3-none-any.whl.metadata (9.7 kB)\n",
            "Collecting starlette<1.0,>=0.40.0 (from gradio)\n",
            "  Downloading starlette-0.42.0-py3-none-any.whl.metadata (6.0 kB)\n",
            "Collecting tomlkit<0.14.0,>=0.12.0 (from gradio)\n",
            "  Downloading tomlkit-0.13.2-py3-none-any.whl.metadata (2.7 kB)\n",
            "Requirement already satisfied: typer<1.0,>=0.12 in /usr/local/lib/python3.10/dist-packages (from gradio) (0.15.1)\n",
            "Requirement already satisfied: typing-extensions~=4.0 in /usr/local/lib/python3.10/dist-packages (from gradio) (4.12.2)\n",
            "Collecting uvicorn>=0.14.0 (from gradio)\n",
            "  Downloading uvicorn-0.34.0-py3-none-any.whl.metadata (6.5 kB)\n",
            "Requirement already satisfied: fsspec in /usr/local/lib/python3.10/dist-packages (from gradio-client==1.5.2->gradio) (2024.10.0)\n",
            "Requirement already satisfied: websockets<15.0,>=10.0 in /usr/local/lib/python3.10/dist-packages (from gradio-client==1.5.2->gradio) (14.1)\n",
            "Requirement already satisfied: matplotlib>=3.3.0 in /usr/local/lib/python3.10/dist-packages (from ultralytics) (3.8.0)\n",
            "Requirement already satisfied: opencv-python>=4.6.0 in /usr/local/lib/python3.10/dist-packages (from ultralytics) (4.10.0.84)\n",
            "Requirement already satisfied: requests>=2.23.0 in /usr/local/lib/python3.10/dist-packages (from ultralytics) (2.32.3)\n",
            "Requirement already satisfied: scipy>=1.4.1 in /usr/local/lib/python3.10/dist-packages (from ultralytics) (1.13.1)\n",
            "Requirement already satisfied: torch>=1.8.0 in /usr/local/lib/python3.10/dist-packages (from ultralytics) (2.5.1+cu121)\n",
            "Requirement already satisfied: torchvision>=0.9.0 in /usr/local/lib/python3.10/dist-packages (from ultralytics) (0.20.1+cu121)\n",
            "Requirement already satisfied: tqdm>=4.64.0 in /usr/local/lib/python3.10/dist-packages (from ultralytics) (4.67.1)\n",
            "Requirement already satisfied: psutil in /usr/local/lib/python3.10/dist-packages (from ultralytics) (5.9.5)\n",
            "Requirement already satisfied: py-cpuinfo in /usr/local/lib/python3.10/dist-packages (from ultralytics) (9.0.0)\n",
            "Requirement already satisfied: seaborn>=0.11.0 in /usr/local/lib/python3.10/dist-packages (from ultralytics) (0.13.2)\n",
            "Collecting ultralytics-thop>=2.0.0 (from ultralytics)\n",
            "  Downloading ultralytics_thop-2.0.13-py3-none-any.whl.metadata (9.4 kB)\n",
            "Collecting boto3 (from suno-bark==0.0.1a0)\n",
            "  Downloading boto3-1.35.87-py3-none-any.whl.metadata (6.7 kB)\n",
            "Collecting encodec (from suno-bark==0.0.1a0)\n",
            "  Downloading encodec-0.1.1.tar.gz (3.7 MB)\n",
            "\u001b[2K     \u001b[90m━━━━━━━━━━━━━━━━━━━━━━━━━━━━━━━━━━━━━━━━\u001b[0m \u001b[32m3.7/3.7 MB\u001b[0m \u001b[31m55.1 MB/s\u001b[0m eta \u001b[36m0:00:00\u001b[0m\n",
            "\u001b[?25h  Preparing metadata (setup.py) ... \u001b[?25l\u001b[?25hdone\n",
            "Collecting funcy (from suno-bark==0.0.1a0)\n",
            "  Downloading funcy-2.0-py2.py3-none-any.whl.metadata (5.9 kB)\n",
            "Requirement already satisfied: tokenizers in /usr/local/lib/python3.10/dist-packages (from suno-bark==0.0.1a0) (0.21.0)\n",
            "Requirement already satisfied: transformers in /usr/local/lib/python3.10/dist-packages (from suno-bark==0.0.1a0) (4.47.1)\n",
            "Requirement already satisfied: idna>=2.8 in /usr/local/lib/python3.10/dist-packages (from anyio<5.0,>=3.0->gradio) (3.10)\n",
            "Requirement already satisfied: sniffio>=1.1 in /usr/local/lib/python3.10/dist-packages (from anyio<5.0,>=3.0->gradio) (1.3.1)\n",
            "Requirement already satisfied: exceptiongroup in /usr/local/lib/python3.10/dist-packages (from anyio<5.0,>=3.0->gradio) (1.2.2)\n",
            "Collecting starlette<1.0,>=0.40.0 (from gradio)\n",
            "  Downloading starlette-0.41.3-py3-none-any.whl.metadata (6.0 kB)\n",
            "Requirement already satisfied: certifi in /usr/local/lib/python3.10/dist-packages (from httpx>=0.24.1->gradio) (2024.12.14)\n",
            "Requirement already satisfied: httpcore==1.* in /usr/local/lib/python3.10/dist-packages (from httpx>=0.24.1->gradio) (1.0.7)\n",
            "Requirement already satisfied: h11<0.15,>=0.13 in /usr/local/lib/python3.10/dist-packages (from httpcore==1.*->httpx>=0.24.1->gradio) (0.14.0)\n",
            "Requirement already satisfied: filelock in /usr/local/lib/python3.10/dist-packages (from huggingface-hub>=0.25.1->gradio) (3.16.1)\n",
            "Requirement already satisfied: contourpy>=1.0.1 in /usr/local/lib/python3.10/dist-packages (from matplotlib>=3.3.0->ultralytics) (1.3.1)\n",
            "Requirement already satisfied: cycler>=0.10 in /usr/local/lib/python3.10/dist-packages (from matplotlib>=3.3.0->ultralytics) (0.12.1)\n",
            "Requirement already satisfied: fonttools>=4.22.0 in /usr/local/lib/python3.10/dist-packages (from matplotlib>=3.3.0->ultralytics) (4.55.3)\n",
            "Requirement already satisfied: kiwisolver>=1.0.1 in /usr/local/lib/python3.10/dist-packages (from matplotlib>=3.3.0->ultralytics) (1.4.7)\n",
            "Requirement already satisfied: pyparsing>=2.3.1 in /usr/local/lib/python3.10/dist-packages (from matplotlib>=3.3.0->ultralytics) (3.2.0)\n",
            "Requirement already satisfied: python-dateutil>=2.7 in /usr/local/lib/python3.10/dist-packages (from matplotlib>=3.3.0->ultralytics) (2.8.2)\n",
            "Requirement already satisfied: pytz>=2020.1 in /usr/local/lib/python3.10/dist-packages (from pandas<3.0,>=1.0->gradio) (2024.2)\n",
            "Requirement already satisfied: tzdata>=2022.7 in /usr/local/lib/python3.10/dist-packages (from pandas<3.0,>=1.0->gradio) (2024.2)\n",
            "Requirement already satisfied: annotated-types>=0.6.0 in /usr/local/lib/python3.10/dist-packages (from pydantic>=2.0->gradio) (0.7.0)\n",
            "Requirement already satisfied: pydantic-core==2.27.1 in /usr/local/lib/python3.10/dist-packages (from pydantic>=2.0->gradio) (2.27.1)\n",
            "Requirement already satisfied: charset-normalizer<4,>=2 in /usr/local/lib/python3.10/dist-packages (from requests>=2.23.0->ultralytics) (3.4.0)\n",
            "Requirement already satisfied: urllib3<3,>=1.21.1 in /usr/local/lib/python3.10/dist-packages (from requests>=2.23.0->ultralytics) (2.2.3)\n",
            "Requirement already satisfied: networkx in /usr/local/lib/python3.10/dist-packages (from torch>=1.8.0->ultralytics) (3.4.2)\n",
            "Requirement already satisfied: sympy==1.13.1 in /usr/local/lib/python3.10/dist-packages (from torch>=1.8.0->ultralytics) (1.13.1)\n",
            "Requirement already satisfied: mpmath<1.4,>=1.1.0 in /usr/local/lib/python3.10/dist-packages (from sympy==1.13.1->torch>=1.8.0->ultralytics) (1.3.0)\n",
            "Requirement already satisfied: click>=8.0.0 in /usr/local/lib/python3.10/dist-packages (from typer<1.0,>=0.12->gradio) (8.1.7)\n",
            "Requirement already satisfied: shellingham>=1.3.0 in /usr/local/lib/python3.10/dist-packages (from typer<1.0,>=0.12->gradio) (1.5.4)\n",
            "Requirement already satisfied: rich>=10.11.0 in /usr/local/lib/python3.10/dist-packages (from typer<1.0,>=0.12->gradio) (13.9.4)\n",
            "Collecting botocore<1.36.0,>=1.35.87 (from boto3->suno-bark==0.0.1a0)\n",
            "  Downloading botocore-1.35.87-py3-none-any.whl.metadata (5.7 kB)\n",
            "Collecting jmespath<2.0.0,>=0.7.1 (from boto3->suno-bark==0.0.1a0)\n",
            "  Downloading jmespath-1.0.1-py3-none-any.whl.metadata (7.6 kB)\n",
            "Collecting s3transfer<0.11.0,>=0.10.0 (from boto3->suno-bark==0.0.1a0)\n",
            "  Downloading s3transfer-0.10.4-py3-none-any.whl.metadata (1.7 kB)\n",
            "Requirement already satisfied: torchaudio in /usr/local/lib/python3.10/dist-packages (from encodec->suno-bark==0.0.1a0) (2.5.1+cu121)\n",
            "Requirement already satisfied: einops in /usr/local/lib/python3.10/dist-packages (from encodec->suno-bark==0.0.1a0) (0.8.0)\n",
            "Requirement already satisfied: regex!=2019.12.17 in /usr/local/lib/python3.10/dist-packages (from transformers->suno-bark==0.0.1a0) (2024.11.6)\n",
            "Requirement already satisfied: safetensors>=0.4.1 in /usr/local/lib/python3.10/dist-packages (from transformers->suno-bark==0.0.1a0) (0.4.5)\n",
            "Requirement already satisfied: six>=1.5 in /usr/local/lib/python3.10/dist-packages (from python-dateutil>=2.7->matplotlib>=3.3.0->ultralytics) (1.17.0)\n",
            "Requirement already satisfied: markdown-it-py>=2.2.0 in /usr/local/lib/python3.10/dist-packages (from rich>=10.11.0->typer<1.0,>=0.12->gradio) (3.0.0)\n",
            "Requirement already satisfied: pygments<3.0.0,>=2.13.0 in /usr/local/lib/python3.10/dist-packages (from rich>=10.11.0->typer<1.0,>=0.12->gradio) (2.18.0)\n",
            "Requirement already satisfied: mdurl~=0.1 in /usr/local/lib/python3.10/dist-packages (from markdown-it-py>=2.2.0->rich>=10.11.0->typer<1.0,>=0.12->gradio) (0.1.2)\n",
            "Downloading gradio-5.9.1-py3-none-any.whl (57.2 MB)\n",
            "\u001b[2K   \u001b[90m━━━━━━━━━━━━━━━━━━━━━━━━━━━━━━━━━━━━━━━━\u001b[0m \u001b[32m57.2/57.2 MB\u001b[0m \u001b[31m17.3 MB/s\u001b[0m eta \u001b[36m0:00:00\u001b[0m\n",
            "\u001b[?25hDownloading gradio_client-1.5.2-py3-none-any.whl (320 kB)\n",
            "\u001b[2K   \u001b[90m━━━━━━━━━━━━━━━━━━━━━━━━━━━━━━━━━━━━━━━━\u001b[0m \u001b[32m320.4/320.4 kB\u001b[0m \u001b[31m24.2 MB/s\u001b[0m eta \u001b[36m0:00:00\u001b[0m\n",
            "\u001b[?25hDownloading ultralytics-8.3.54-py3-none-any.whl (903 kB)\n",
            "\u001b[2K   \u001b[90m━━━━━━━━━━━━━━━━━━━━━━━━━━━━━━━━━━━━━━━━\u001b[0m \u001b[32m903.1/903.1 kB\u001b[0m \u001b[31m32.5 MB/s\u001b[0m eta \u001b[36m0:00:00\u001b[0m\n",
            "\u001b[?25hDownloading aiofiles-23.2.1-py3-none-any.whl (15 kB)\n",
            "Downloading fastapi-0.115.6-py3-none-any.whl (94 kB)\n",
            "\u001b[2K   \u001b[90m━━━━━━━━━━━━━━━━━━━━━━━━━━━━━━━━━━━━━━━━\u001b[0m \u001b[32m94.8/94.8 kB\u001b[0m \u001b[31m9.5 MB/s\u001b[0m eta \u001b[36m0:00:00\u001b[0m\n",
            "\u001b[?25hDownloading MarkupSafe-2.1.5-cp310-cp310-manylinux_2_17_x86_64.manylinux2014_x86_64.whl (25 kB)\n",
            "Downloading python_multipart-0.0.20-py3-none-any.whl (24 kB)\n",
            "Downloading ruff-0.8.4-py3-none-manylinux_2_17_x86_64.manylinux2014_x86_64.whl (11.2 MB)\n",
            "\u001b[2K   \u001b[90m━━━━━━━━━━━━━━━━━━━━━━━━━━━━━━━━━━━━━━━━\u001b[0m \u001b[32m11.2/11.2 MB\u001b[0m \u001b[31m81.8 MB/s\u001b[0m eta \u001b[36m0:00:00\u001b[0m\n",
            "\u001b[?25hDownloading safehttpx-0.1.6-py3-none-any.whl (8.7 kB)\n",
            "Downloading semantic_version-2.10.0-py2.py3-none-any.whl (15 kB)\n",
            "Downloading starlette-0.41.3-py3-none-any.whl (73 kB)\n",
            "\u001b[2K   \u001b[90m━━━━━━━━━━━━━━━━━━━━━━━━━━━━━━━━━━━━━━━━\u001b[0m \u001b[32m73.2/73.2 kB\u001b[0m \u001b[31m6.0 MB/s\u001b[0m eta \u001b[36m0:00:00\u001b[0m\n",
            "\u001b[?25hDownloading tomlkit-0.13.2-py3-none-any.whl (37 kB)\n",
            "Downloading ultralytics_thop-2.0.13-py3-none-any.whl (26 kB)\n",
            "Downloading uvicorn-0.34.0-py3-none-any.whl (62 kB)\n",
            "\u001b[2K   \u001b[90m━━━━━━━━━━━━━━━━━━━━━━━━━━━━━━━━━━━━━━━━\u001b[0m \u001b[32m62.3/62.3 kB\u001b[0m \u001b[31m6.2 MB/s\u001b[0m eta \u001b[36m0:00:00\u001b[0m\n",
            "\u001b[?25hDownloading boto3-1.35.87-py3-none-any.whl (139 kB)\n",
            "\u001b[2K   \u001b[90m━━━━━━━━━━━━━━━━━━━━━━━━━━━━━━━━━━━━━━━━\u001b[0m \u001b[32m139.2/139.2 kB\u001b[0m \u001b[31m13.5 MB/s\u001b[0m eta \u001b[36m0:00:00\u001b[0m\n",
            "\u001b[?25hDownloading ffmpy-0.5.0-py3-none-any.whl (6.0 kB)\n",
            "Downloading funcy-2.0-py2.py3-none-any.whl (30 kB)\n",
            "Downloading pydub-0.25.1-py2.py3-none-any.whl (32 kB)\n",
            "Downloading botocore-1.35.87-py3-none-any.whl (13.3 MB)\n",
            "\u001b[2K   \u001b[90m━━━━━━━━━━━━━━━━━━━━━━━━━━━━━━━━━━━━━━━━\u001b[0m \u001b[32m13.3/13.3 MB\u001b[0m \u001b[31m73.4 MB/s\u001b[0m eta \u001b[36m0:00:00\u001b[0m\n",
            "\u001b[?25hDownloading jmespath-1.0.1-py3-none-any.whl (20 kB)\n",
            "Downloading s3transfer-0.10.4-py3-none-any.whl (83 kB)\n",
            "\u001b[2K   \u001b[90m━━━━━━━━━━━━━━━━━━━━━━━━━━━━━━━━━━━━━━━━\u001b[0m \u001b[32m83.2/83.2 kB\u001b[0m \u001b[31m7.9 MB/s\u001b[0m eta \u001b[36m0:00:00\u001b[0m\n",
            "\u001b[?25hBuilding wheels for collected packages: suno-bark, encodec\n",
            "  Building wheel for suno-bark (pyproject.toml) ... \u001b[?25l\u001b[?25hdone\n",
            "  Created wheel for suno-bark: filename=suno_bark-0.0.1a0-py3-none-any.whl size=2567357 sha256=f50e50f91890e6063a17066a6b683235a3016e2b257504f40eeb3d6a9fe85f3c\n",
            "  Stored in directory: /tmp/pip-ephem-wheel-cache-tb2fusfl/wheels/e6/6d/c2/107ed849afe600f905bb4049a026df3c7c5aa75d86c2721ec7\n",
            "  Building wheel for encodec (setup.py) ... \u001b[?25l\u001b[?25hdone\n",
            "  Created wheel for encodec: filename=encodec-0.1.1-py3-none-any.whl size=45760 sha256=69d9573c07d19bc6005b6709c09eedf9d7541f4415d017c41d64d9f680fa4c2f\n",
            "  Stored in directory: /root/.cache/pip/wheels/fc/36/cb/81af8b985a5f5e0815312d5e52b41263237af07b977e6bcbf3\n",
            "Successfully built suno-bark encodec\n",
            "Installing collected packages: pydub, funcy, uvicorn, tomlkit, semantic-version, ruff, python-multipart, markupsafe, jmespath, ffmpy, aiofiles, starlette, botocore, safehttpx, s3transfer, gradio-client, fastapi, ultralytics-thop, gradio, boto3, ultralytics, encodec, suno-bark\n",
            "  Attempting uninstall: markupsafe\n",
            "    Found existing installation: MarkupSafe 3.0.2\n",
            "    Uninstalling MarkupSafe-3.0.2:\n",
            "      Successfully uninstalled MarkupSafe-3.0.2\n",
            "Successfully installed aiofiles-23.2.1 boto3-1.35.87 botocore-1.35.87 encodec-0.1.1 fastapi-0.115.6 ffmpy-0.5.0 funcy-2.0 gradio-5.9.1 gradio-client-1.5.2 jmespath-1.0.1 markupsafe-2.1.5 pydub-0.25.1 python-multipart-0.0.20 ruff-0.8.4 s3transfer-0.10.4 safehttpx-0.1.6 semantic-version-2.10.0 starlette-0.41.3 suno-bark-0.0.1a0 tomlkit-0.13.2 ultralytics-8.3.54 ultralytics-thop-2.0.13 uvicorn-0.34.0\n"
          ]
        }
      ],
      "source": [
        "!pip install gradio ultralytics git+https://github.com/suno-ai/bark.git"
      ]
    },
    {
      "cell_type": "markdown",
      "source": [
        "***Import Necessary Libraries***"
      ],
      "metadata": {
        "id": "GzJZRIoegPk8"
      }
    },
    {
      "cell_type": "code",
      "source": [
        "import cv2\n",
        "import torch\n",
        "import numpy as np\n",
        "from ultralytics import YOLO\n",
        "import gradio as gr\n",
        "from bark import SAMPLE_RATE, generate_audio, preload_models\n",
        "from scipy.io.wavfile import write as write_wav\n",
        "import os\n",
        "import time\n",
        "import random\n",
        "import json"
      ],
      "metadata": {
        "colab": {
          "base_uri": "https://localhost:8080/"
        },
        "id": "CJMNFVKvgQGe",
        "outputId": "09a1e78a-59a1-4695-e71d-27524af4215a"
      },
      "execution_count": 2,
      "outputs": [
        {
          "output_type": "stream",
          "name": "stdout",
          "text": [
            "Creating new Ultralytics Settings v0.0.6 file ✅ \n",
            "View Ultralytics Settings with 'yolo settings' or at '/root/.config/Ultralytics/settings.json'\n",
            "Update Settings with 'yolo settings key=value', i.e. 'yolo settings runs_dir=path/to/dir'. For help see https://docs.ultralytics.com/quickstart/#ultralytics-settings.\n"
          ]
        }
      ]
    },
    {
      "cell_type": "markdown",
      "source": [
        "***Function to load medical phrases from JSON***"
      ],
      "metadata": {
        "id": "z0CQCRR1gUZ0"
      }
    },
    {
      "cell_type": "code",
      "source": [
        "def load_medical_phrases(file_path):\n",
        "    \"\"\"\n",
        "    Load medical phrases from a JSON file\n",
        "    \"\"\"\n",
        "    try:\n",
        "        with open(file_path, 'r') as file:\n",
        "            return json.load(file)\n",
        "    except Exception as e:\n",
        "        print(f\"Error loading medical phrases: {e}\")\n",
        "        return {}"
      ],
      "metadata": {
        "id": "AwvECIehgUDj"
      },
      "execution_count": 3,
      "outputs": []
    },
    {
      "cell_type": "markdown",
      "source": [
        "***Function to generate speech using Bark***"
      ],
      "metadata": {
        "id": "K6u3K--JggK6"
      }
    },
    {
      "cell_type": "code",
      "source": [
        "def generate_speech(text, audio_dir=\"generated_audio\"):\n",
        "    \"\"\"\n",
        "    Generate speech from text using Bark\n",
        "    \"\"\"\n",
        "    if not text:\n",
        "        return None\n",
        "\n",
        "    audio_array = generate_audio(\n",
        "        text,\n",
        "        history_prompt=\"v2/en_speaker_6\",\n",
        "        text_temp=0.5,\n",
        "        waveform_temp=0.6\n",
        "    )\n",
        "\n",
        "    timestamp = int(time.time())\n",
        "    os.makedirs(audio_dir, exist_ok=True)\n",
        "    audio_path = os.path.join(audio_dir, f\"speech_{timestamp}.wav\")\n",
        "    write_wav(audio_path, SAMPLE_RATE, audio_array)\n",
        "    return audio_path"
      ],
      "metadata": {
        "id": "x4MW4FDhgiCE"
      },
      "execution_count": 4,
      "outputs": []
    },
    {
      "cell_type": "markdown",
      "source": [
        "***ASL Medical Recognizer Class***"
      ],
      "metadata": {
        "id": "PR9SlcNjgmwC"
      }
    },
    {
      "cell_type": "code",
      "source": [
        "class ASLMedicalRecognizer:\n",
        "    def __init__(self, model_path, confidence_threshold=0.5, buffer_size=5):\n",
        "        \"\"\"\n",
        "        Initialize the ASL Medical Word Recognizer with contextual TTS\n",
        "        \"\"\"\n",
        "        self.model = YOLO(model_path)\n",
        "        self.confidence_threshold = confidence_threshold\n",
        "        self.labels = [\n",
        "            'A', 'B', 'C', 'D', 'E', 'F', 'G', 'H', 'I', 'J', 'K', 'L',\n",
        "            'M', 'N', 'O', 'P', 'Q', 'R', 'S', 'T', 'U', 'V', 'W', 'X', 'Y', 'Z'\n",
        "        ]\n",
        "\n",
        "        self.medical_phrases = load_medical_phrases(\"/content/phrases.json\")\n",
        "        self.medical_words = set(self.medical_phrases.keys())\n",
        "        self.prediction_buffer = []\n",
        "        self.buffer_size = buffer_size\n",
        "\n",
        "        # Initialize Bark TTS\n",
        "        print(\"Loading Bark TTS models...\")\n",
        "        preload_models()\n",
        "        print(\"Bark TTS models loaded successfully!\")\n",
        "\n",
        "    def detect(self, frame):\n",
        "        \"\"\"\n",
        "        Perform detection on a single frame\n",
        "        \"\"\"\n",
        "        results = self.model.predict(\n",
        "            source=frame,\n",
        "            conf=self.confidence_threshold,\n",
        "            device=0 #if GPU available\n",
        "        )\n",
        "\n",
        "        detected_letters = []\n",
        "        for result in results:\n",
        "            boxes = result.boxes\n",
        "            if len(boxes) > 0:\n",
        "                for box in boxes:\n",
        "                    cls = int(box.cls[0])\n",
        "                    conf = float(box.conf[0])\n",
        "                    if conf > self.confidence_threshold:\n",
        "                        detected_letter = self.labels[cls]\n",
        "                        detected_letters.append(detected_letter)\n",
        "\n",
        "        annotated_frame = results[0].plot() if results else frame\n",
        "        return annotated_frame, detected_letters\n",
        "\n",
        "    def find_potential_medical_words(self, letters):\n",
        "        \"\"\"\n",
        "        Find potential medical words from a sequence of letters\n",
        "        \"\"\"\n",
        "        prefix = ''.join(letters).lower()\n",
        "\n",
        "        if not prefix:\n",
        "            return []\n",
        "\n",
        "        potential_matches = [\n",
        "            word for word in self.medical_words\n",
        "            if word.startswith(prefix) and len(word) >= len(prefix)\n",
        "        ]\n",
        "\n",
        "        return potential_matches[:5]\n",
        "\n",
        "    def get_contextual_phrase(self, word):\n",
        "        \"\"\"\n",
        "        Get a contextual phrase for the selected medical word\n",
        "        \"\"\"\n",
        "        if word in self.medical_phrases:\n",
        "            return random.choice(self.medical_phrases[word])\n",
        "        return word\n",
        "\n",
        "    def process_captured_image(self, image):\n",
        "        \"\"\"\n",
        "        Process a captured image and return results\n",
        "        \"\"\"\n",
        "        annotated_frame, detected_letters = self.detect(image)\n",
        "\n",
        "        if detected_letters:\n",
        "            self.prediction_buffer.extend(detected_letters)\n",
        "\n",
        "            if len(self.prediction_buffer) > self.buffer_size * 3:\n",
        "                self.prediction_buffer = self.prediction_buffer[-self.buffer_size * 3:]\n",
        "\n",
        "            potential_words = self.find_potential_medical_words(self.prediction_buffer)\n",
        "\n",
        "            # Get phrases for all potential words\n",
        "            word_phrases = {word: self.get_contextual_phrase(word) for word in potential_words}\n",
        "\n",
        "            return annotated_frame, detected_letters, potential_words, word_phrases\n",
        "\n",
        "        return annotated_frame, [], [], {}\n",
        "\n",
        "    def reset_buffers(self):\n",
        "        \"\"\"\n",
        "        Reset prediction buffer\n",
        "        \"\"\"\n",
        "        self.prediction_buffer.clear()"
      ],
      "metadata": {
        "id": "wDTE4_ZKgoZN"
      },
      "execution_count": 5,
      "outputs": []
    },
    {
      "cell_type": "markdown",
      "source": [
        "***Function to create the Gradio interface***"
      ],
      "metadata": {
        "id": "Q4_K5L2ogsIQ"
      }
    },
    {
      "cell_type": "code",
      "source": [
        "def create_asl_interface(model_path):\n",
        "    \"\"\"\n",
        "    Create Gradio interface for ASL medical communication\n",
        "    \"\"\"\n",
        "    recognizer = ASLMedicalRecognizer(model_path)\n",
        "\n",
        "    def webcam_predict(image):\n",
        "        \"\"\"\n",
        "        Process webcam input and update interface components\n",
        "        \"\"\"\n",
        "        if image is None:\n",
        "            return None, \"No image captured\", [], gr.Dropdown(choices=[]), gr.Dropdown(choices=[])\n",
        "\n",
        "        annotated_frame, detected_letters, potential_words, word_phrases = recognizer.process_captured_image(image)\n",
        "        detection_text = f\"Detected Letters: {', '.join(detected_letters)}\"\n",
        "\n",
        "        word_choices = potential_words if potential_words else []\n",
        "        word_dropdown = gr.Dropdown(\n",
        "            choices=word_choices,\n",
        "            value=word_choices[0] if word_choices else None,\n",
        "            interactive=True,\n",
        "            label=\"Select the detected word\"\n",
        "        )\n",
        "\n",
        "        phrase_dropdown = gr.Dropdown(\n",
        "            choices=[],\n",
        "            value=None,\n",
        "            interactive=True,\n",
        "            label=\"Select the phrase to speak\"\n",
        "        )\n",
        "\n",
        "        return annotated_frame, detection_text, word_dropdown, phrase_dropdown\n",
        "\n",
        "    def update_phrases(selected_word):\n",
        "        \"\"\"\n",
        "        Update phrase dropdown based on the selected word\n",
        "        \"\"\"\n",
        "        if selected_word:\n",
        "            phrases = recognizer.medical_phrases.get(selected_word, [])\n",
        "            return gr.Dropdown(\n",
        "                choices=phrases,\n",
        "                value=phrases[0] if phrases else None,\n",
        "                interactive=True,\n",
        "                label=\"Select the phrase to speak\"\n",
        "            )\n",
        "        return gr.Dropdown(choices=[], interactive=True, label=\"Select the phrase to speak\")\n",
        "\n",
        "    def speak_selected_phrase(selected_phrase):\n",
        "        \"\"\"\n",
        "        Generate speech for the selected phrase\n",
        "        \"\"\"\n",
        "        if selected_phrase:\n",
        "            audio_path = generate_speech(selected_phrase)\n",
        "            return selected_phrase, audio_path\n",
        "        return \"\", None\n",
        "\n",
        "    def reset_recognition():\n",
        "        \"\"\"\n",
        "        Reset all components\n",
        "        \"\"\"\n",
        "        recognizer.reset_buffers()\n",
        "        empty_word_dropdown = gr.Dropdown(choices=[], interactive=True, label=\"Select the detected word\")\n",
        "        empty_phrase_dropdown = gr.Dropdown(choices=[], interactive=True, label=\"Select the phrase to speak\")\n",
        "        return \"Buffers reset. Ready for new recognition.\", None, empty_word_dropdown, empty_phrase_dropdown\n",
        "\n",
        "    with gr.Blocks() as demo:\n",
        "        gr.Markdown(\"# ASL Medical Communication Assistant\")\n",
        "        gr.Markdown(\"Capture ASL signs to communicate medical needs and requests\")\n",
        "\n",
        "        with gr.Row():\n",
        "            webcam = gr.Image(sources=[\"webcam\"])\n",
        "\n",
        "            with gr.Column():\n",
        "                detection_output = gr.Textbox(label=\"Detection Results\")\n",
        "                word_dropdown = gr.Dropdown(choices=[], label=\"Select the detected word\", interactive=True)\n",
        "                phrase_dropdown = gr.Dropdown(choices=[], label=\"Select the phrase to speak\", interactive=True)\n",
        "                audio_output = gr.Audio(label=\"Speech Output\")\n",
        "\n",
        "        with gr.Row():\n",
        "            capture_btn = gr.Button(\"Capture Sign\")\n",
        "            update_btn = gr.Button(\"Update Phrases\")\n",
        "            speak_btn = gr.Button(\"Speak Selected Phrase\", interactive=True)\n",
        "            reset_btn = gr.Button(\"Reset\")\n",
        "\n",
        "        final_phrase = gr.Textbox(label=\"Selected Phrase\")\n",
        "\n",
        "        capture_btn.click(\n",
        "            webcam_predict,\n",
        "            inputs=webcam,\n",
        "            outputs=[webcam, detection_output, word_dropdown, phrase_dropdown]\n",
        "        )\n",
        "\n",
        "        update_btn.click(\n",
        "            update_phrases,\n",
        "            inputs=word_dropdown,\n",
        "            outputs=phrase_dropdown\n",
        "        )\n",
        "\n",
        "        speak_btn.click(\n",
        "            speak_selected_phrase,\n",
        "            inputs=phrase_dropdown,\n",
        "            outputs=[final_phrase, audio_output]\n",
        "        )\n",
        "\n",
        "        reset_btn.click(\n",
        "            reset_recognition,\n",
        "            outputs=[detection_output, audio_output, word_dropdown, phrase_dropdown]\n",
        "        )\n",
        "\n",
        "    return demo"
      ],
      "metadata": {
        "id": "vI4lDaNGgt_b"
      },
      "execution_count": 6,
      "outputs": []
    },
    {
      "cell_type": "code",
      "source": [
        "def main():\n",
        "    model_path = '/content/ASL-medium-20-epoch.pt'\n",
        "    demo = create_asl_interface(model_path)\n",
        "    demo.launch(debug=True)\n",
        "\n",
        "if __name__ == '__main__':\n",
        "    main()"
      ],
      "metadata": {
        "colab": {
          "base_uri": "https://localhost:8080/",
          "height": 851
        },
        "id": "-LntAM4agyZM",
        "outputId": "1e2b12cf-f099-4240-9454-a913b101c3c7"
      },
      "execution_count": 8,
      "outputs": [
        {
          "output_type": "stream",
          "name": "stdout",
          "text": [
            "Loading Bark TTS models...\n",
            "Bark TTS models loaded successfully!\n",
            "Running Gradio in a Colab notebook requires sharing enabled. Automatically setting `share=True` (you can turn this off by setting `share=False` in `launch()` explicitly).\n",
            "\n",
            "Colab notebook detected. This cell will run indefinitely so that you can see errors and logs. To turn off, set debug=False in launch().\n",
            "* Running on public URL: https://2bbf9d00df49522cf5.gradio.live\n",
            "\n",
            "This share link expires in 72 hours. For free permanent hosting and GPU upgrades, run `gradio deploy` from the terminal in the working directory to deploy to Hugging Face Spaces (https://huggingface.co/spaces)\n"
          ]
        },
        {
          "output_type": "display_data",
          "data": {
            "text/plain": [
              "<IPython.core.display.HTML object>"
            ],
            "text/html": [
              "<div><iframe src=\"https://2bbf9d00df49522cf5.gradio.live\" width=\"100%\" height=\"500\" allow=\"autoplay; camera; microphone; clipboard-read; clipboard-write;\" frameborder=\"0\" allowfullscreen></iframe></div>"
            ]
          },
          "metadata": {}
        },
        {
          "output_type": "stream",
          "name": "stdout",
          "text": [
            "\n",
            "0: 384x640 1 A, 71.2ms\n",
            "Speed: 2.3ms preprocess, 71.2ms inference, 78.7ms postprocess per image at shape (1, 3, 384, 640)\n"
          ]
        },
        {
          "output_type": "stream",
          "name": "stderr",
          "text": [
            "/usr/local/lib/python3.10/dist-packages/bark/generation.py:175: FutureWarning: `torch.cuda.amp.autocast(args...)` is deprecated. Please use `torch.amp.autocast('cuda', args...)` instead.\n",
            "  with InferenceContext(), torch.inference_mode(), torch.no_grad(), autocast():\n",
            "100%|██████████| 305/305 [00:12<00:00, 23.56it/s]\n",
            "100%|██████████| 16/16 [00:38<00:00,  2.38s/it]\n"
          ]
        },
        {
          "output_type": "stream",
          "name": "stdout",
          "text": [
            "Keyboard interruption in main thread... closing server.\n",
            "Killing tunnel 127.0.0.1:7860 <> https://2bbf9d00df49522cf5.gradio.live\n"
          ]
        }
      ]
    },
    {
      "cell_type": "code",
      "source": [],
      "metadata": {
        "id": "JcjYKt3oc5sc"
      },
      "execution_count": null,
      "outputs": []
    }
  ]
}